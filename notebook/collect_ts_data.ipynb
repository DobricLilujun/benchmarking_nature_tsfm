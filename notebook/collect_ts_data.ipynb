{
 "cells": [
  {
   "cell_type": "code",
   "execution_count": 1,
   "id": "8b8cef1b",
   "metadata": {},
   "outputs": [
    {
     "name": "stdout",
     "output_type": "stream",
     "text": [
      "收集完成，共 844 个文件，存放在 /home/snt/projects_lujun/benchmarking_nature_tsfm/data/video/LaSOT/collected_csvs\n"
     ]
    }
   ],
   "source": [
    "import os\n",
    "import shutil\n",
    "import re\n",
    "import pandas as pd\n",
    "\n",
    "# 原始数据根目录\n",
    "root_dir = \"/home/snt/projects_lujun/benchmarking_nature_tsfm/data/video/LaSOT\"\n",
    "# 收集后的存放目录\n",
    "save_dir = os.path.join(root_dir, \"collected_csvs\")\n",
    "os.makedirs(save_dir, exist_ok=True)\n",
    "\n",
    "# 用于保存文件对应的映射关系\n",
    "mapping = []\n",
    "\n",
    "for dirpath, _, filenames in os.walk(root_dir):\n",
    "    for filename in filenames:\n",
    "        if filename.endswith(\".csv\"):\n",
    "            full_path = os.path.join(dirpath, filename)\n",
    "            \n",
    "            # 提取一级文件夹名（比如 swing）\n",
    "            rel_path = os.path.relpath(full_path, root_dir)\n",
    "            parts = rel_path.split(os.sep)\n",
    "            folder_name = parts[0]  # 第一级子目录名\n",
    "\n",
    "            # 尝试匹配序号（如 swing-14）\n",
    "            match = re.search(r\"-(\\d+)\", rel_path)\n",
    "            seq = match.group(1) if match else \"unknown\"\n",
    "\n",
    "            # 新文件名： foldername_seq_originalname\n",
    "            name_no_ext, ext = os.path.splitext(filename)\n",
    "            new_name = f\"{folder_name}_{seq}_{name_no_ext}{ext}\"\n",
    "            dst_path = os.path.join(save_dir, new_name)\n",
    "\n",
    "            # 拷贝文件\n",
    "            shutil.copy(full_path, dst_path)\n",
    "\n",
    "            # 保存映射信息\n",
    "            mapping.append([full_path, filename, new_name, folder_name, seq])\n",
    "\n",
    "# 把映射关系保存成一个总表\n",
    "df = pd.DataFrame(mapping, columns=[\"original_path\", \"original_name\", \"new_name\", \"folder\", \"seq\"])\n",
    "df.to_csv(os.path.join(save_dir, \"mapping.csv\"), index=False)\n",
    "\n",
    "print(f\"收集完成，共 {len(mapping)} 个文件，存放在 {save_dir}\")\n"
   ]
  },
  {
   "cell_type": "code",
   "execution_count": null,
   "id": "22721cf7",
   "metadata": {},
   "outputs": [],
   "source": [
    "import os\n",
    "import shutil\n",
    "import re\n",
    "import pandas as pd\n",
    "\n",
    "# 原始数据根目录\n",
    "root_dir = \"/home/snt/projects_lujun/benchmarking_nature_tsfm/data/video/LaSOT\"\n",
    "# 收集后的存放目录\n",
    "save_dir = os.path.join(root_dir, \"collected_mp4s\")\n",
    "os.makedirs(save_dir, exist_ok=True)\n",
    "\n",
    "# 用于保存文件对应的映射关系\n",
    "mapping = []\n",
    "\n",
    "for dirpath, _, filenames in os.walk(root_dir):\n",
    "    for filename in filenames:\n",
    "        if filename.endswith(\".mp4\"):\n",
    "            full_path = os.path.join(dirpath, filename)\n",
    "            \n",
    "            # 提取一级文件夹名（比如 swing）\n",
    "            rel_path = os.path.relpath(full_path, root_dir)\n",
    "            parts = rel_path.split(os.sep)\n",
    "            folder_name = parts[0]  # 第一级子目录名\n",
    "\n",
    "            # 尝试匹配序号（如 swing-14）\n",
    "            match = re.search(r\"-(\\d+)\", rel_path)\n",
    "            seq = match.group(1) if match else \"unknown\"\n",
    "\n",
    "            # 新文件名： foldername_seq_originalname\n",
    "            name_no_ext, ext = os.path.splitext(filename)\n",
    "            new_name = f\"{folder_name}_{seq}_{name_no_ext}{ext}\"\n",
    "            dst_path = os.path.join(save_dir, new_name)\n",
    "\n",
    "            # 拷贝文件\n",
    "            shutil.copy(full_path, dst_path)\n",
    "\n",
    "            # 保存映射信息\n",
    "            mapping.append([full_path, filename, new_name, folder_name, seq])\n",
    "\n",
    "# 把映射关系保存成一个总表\n",
    "df = pd.DataFrame(mapping, columns=[\"original_path\", \"original_name\", \"new_name\", \"folder\", \"seq\"])\n",
    "df.to_csv(os.path.join(save_dir, \"mapping.csv\"), index=False)\n",
    "\n",
    "print(f\"收集完成，共 {len(mapping)} 个文件，存放在 {save_dir}\")\n"
   ]
  },
  {
   "cell_type": "code",
   "execution_count": null,
   "id": "3b9e0f45",
   "metadata": {},
   "outputs": [],
   "source": [
    "import pandas as pd \n",
    "\n",
    "\n"
   ]
  }
 ],
 "metadata": {
  "kernelspec": {
   "display_name": "benchmarking_nature_tsfm",
   "language": "python",
   "name": "python3"
  },
  "language_info": {
   "codemirror_mode": {
    "name": "ipython",
    "version": 3
   },
   "file_extension": ".py",
   "mimetype": "text/x-python",
   "name": "python",
   "nbconvert_exporter": "python",
   "pygments_lexer": "ipython3",
   "version": "3.10.18"
  }
 },
 "nbformat": 4,
 "nbformat_minor": 5
}
