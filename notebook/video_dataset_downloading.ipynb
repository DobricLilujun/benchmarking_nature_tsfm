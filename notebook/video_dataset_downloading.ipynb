{
 "cells": [
  {
   "cell_type": "code",
   "execution_count": null,
   "id": "710b1c3a",
   "metadata": {},
   "outputs": [],
   "source": [
    "from TrackingNet.utils import getListSplit, getListSequence\n",
    "from TrackingNet.Downloader import TrackingNetDownloader\n",
    "from TrackingNet.utils import getListSplit\n",
    "\n",
    "# Get list of codenames for the 12 training + testing split\n",
    "TrackingNetSplits = getListSplit()\n",
    "print(getListSplit())\n",
    "\n",
    "# Get list of tracking sequences\n",
    "print(getListSequence(split=TrackingNetSplits[1])) # return list of tracking sequences in that split\n",
    "print(getListSequence(split=\"TEST\")) # return list of tracking sequences for testing\n",
    "\n",
    "\n",
    "\n",
    "downloader = TrackingNetDownloader(LocalDirectory=\"path/to/TrackingNet\")\n",
    "\n",
    "# for split in getListSplit():\n",
    "    \n",
    "#     downloader.downloadSplit(split)\n",
    "\n",
    "downloader.downloadSplit(\"TEST\")"
   ]
  }
 ],
 "metadata": {
  "language_info": {
   "name": "python"
  }
 },
 "nbformat": 4,
 "nbformat_minor": 5
}
